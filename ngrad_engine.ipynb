{
  "nbformat": 4,
  "nbformat_minor": 0,
  "metadata": {
    "colab": {
      "provenance": [],
      "authorship_tag": "ABX9TyM230W1gCLuU0DiCBifo1Vg",
      "include_colab_link": true
    },
    "kernelspec": {
      "name": "python3",
      "display_name": "Python 3"
    },
    "language_info": {
      "name": "python"
    }
  },
  "cells": [
    {
      "cell_type": "markdown",
      "metadata": {
        "id": "view-in-github",
        "colab_type": "text"
      },
      "source": [
        "<a href=\"https://colab.research.google.com/github/peeyushaga/micrograd/blob/main/ngrad_engine.ipynb\" target=\"_parent\"><img src=\"https://colab.research.google.com/assets/colab-badge.svg\" alt=\"Open In Colab\"/></a>"
      ]
    },
    {
      "cell_type": "code",
      "execution_count": 1,
      "metadata": {
        "id": "_12A46Kz7TPm"
      },
      "outputs": [],
      "source": [
        "import numpy as np"
      ]
    },
    {
      "cell_type": "code",
      "source": [
        "class Value:\n",
        "\n",
        "  def __init__(self, data, _children=(), _op='', label=''):\n",
        "    # convert data into numpy array\n",
        "    if isinstance(data, np.ndarray):\n",
        "      self.data = data\n",
        "    else:\n",
        "      self.data = np.array(data)\n",
        "\n",
        "    #initializing grad array\n",
        "    self.grad = np.zeros_like(self.data)\n",
        "\n",
        "    #placeholder for backward function\n",
        "    self._backward = lambda:None\n",
        "\n",
        "    #set of previous node\n",
        "    self._prev = set(_children)\n",
        "\n",
        "    #operation performed\n",
        "    self._op = _op\n",
        "\n",
        "    #label for node\n",
        "    self.label = label\n",
        "\n",
        "\n",
        "\n",
        "  def __add__(self, other):\n",
        "    # Convert other to a Value if it is not already\n",
        "    other = other if isinstance(other, Value) else Value(other)\n",
        "\n",
        "    # Create a new Value instance representing the addition operation\n",
        "    out = Value(self.data + other.data, (self, other), '+')\n",
        "\n",
        "    def _backward():\n",
        "      # Calculate the gradients using the chain rule and update the gradients of the operands\n",
        "      self.grad = self.grad + (1.0 * out.grad)\n",
        "      other.grad = other.grad + (1.0 * out.grad)\n",
        "\n",
        "    # Assign the backward function to the new Value instance\n",
        "    out._backward = _backward\n",
        "    return out\n",
        "\n",
        "  def __mul__(self, other):\n",
        "    #converting other to Value\n",
        "    other = other if isinstance(other, Value) else Value(other)\n",
        "    #output of the operation\n",
        "    out = Value(self.data * other.data, (self, other), '*')\n",
        "\n",
        "    def _backward():\n",
        "      #calculating the gradients using chain rule\n",
        "      self.grad += other.data*out.grad\n",
        "      other.grad += self.data*out.grad\n",
        "    out._backward = _backward\n",
        "    return out\n",
        "\n",
        "  def __pow__(self, other):\n",
        "    #other is scalar\n",
        "    if isinstance(other, (int, float)):\n",
        "      out = Value(np.power(self.data, other), (self, ), f'**')\n",
        "\n",
        "      def _backward():\n",
        "        #calculating the gradients using chain rule\n",
        "        self.grad += other * np.power(self.data, other-1) * out.grad\n",
        "      out._bakcward = _backward\n",
        "      return out\n",
        "\n",
        "    elif isinstance(other, Value):\n",
        "      out = Value(np.power(self.data, other.data), (self, other), f'**{other.data}')\n",
        "\n",
        "      def _backward():\n",
        "        self.grad += other.data * np.power(self.data, other.data - 1) * out.grad\n",
        "        other.grad += np.power(self.data, other.data)*np.log(self.data)*out.grad\n",
        "      out._baclward = _backward\n",
        "      return out\n",
        "\n",
        "    else:\n",
        "      raise TypeError(\"Unsupported operand type(s) for **: 'Value' and '{}'\".format(type(other).__name__))\n",
        "\n",
        "\n",
        "  def relu(self):\n",
        "        out = Value(0 if self.data < 0 else self.data, (self,), 'ReLU')\n",
        "\n",
        "        def _backward():\n",
        "            self.grad += (out.data > 0) * out.grad\n",
        "        out._backward = _backward\n",
        "        return out\n",
        "\n",
        "  def exp(self):\n",
        "    x = self.data\n",
        "    out = Value(np.exp(x), (self, ), 'exp')\n",
        "\n",
        "    def _backward():\n",
        "      self.grad += out.data * out.grad\n",
        "    out._backward = _backward\n",
        "    return out\n",
        "\n",
        "  def tanh(self):\n",
        "    x = self.data\n",
        "    t = np.tanh(x)\n",
        "    out = Value(t, (self,),'tanh')\n",
        "\n",
        "    def _backward():\n",
        "      self.grad += (1 - t**2)*out.grad\n",
        "    out._backward = _backward\n",
        "    return out\n",
        "\n",
        "  def __radd__(self, other):\n",
        "    return self + other\n",
        "\n",
        "  def __rmul__(self, other):\n",
        "    return self*other\n",
        "\n",
        "  def __truediv__(self, other):\n",
        "    return self*(other**-1)\n",
        "\n",
        "  def __neg__(self):\n",
        "    return self*-1\n",
        "\n",
        "  def __sub__(self, other):\n",
        "    return self + (-other)\n",
        "\n",
        "  def backward(self):\n",
        "    #perform backprogation\n",
        "    topo = []\n",
        "    visited = set()\n",
        "\n",
        "    def build_topo(v):\n",
        "      if v not in visited:\n",
        "        visited.add(v)\n",
        "        for child in v._prev:\n",
        "          build_topo(child)\n",
        "        topo.append(v)\n",
        "    build_topo(self)\n",
        "\n",
        "    self.grad = np.ones_like(self.data)\n",
        "\n",
        "    for node in reversed(topo):\n",
        "      node._backward()\n",
        "\n",
        "  def __repr__(self):\n",
        "    return f\"Value(data={self.data})\""
      ],
      "metadata": {
        "id": "eBg9PQaNC05-"
      },
      "execution_count": 30,
      "outputs": []
    },
    {
      "cell_type": "code",
      "source": [
        "from graphviz import Digraph\n",
        "\n",
        "def trace(root):\n",
        "    # Initialize empty sets for nodes and edges\n",
        "    nodes, edges = set(), set()\n",
        "\n",
        "    # Recursive function to build the set of nodes and edges\n",
        "    def build(v):\n",
        "        # If the current node is not in the set of nodes\n",
        "        if v not in nodes:\n",
        "            # Add the current node to the set of nodes\n",
        "            nodes.add(v)\n",
        "\n",
        "            # Iterate over the previous nodes (parents) of the current node\n",
        "            for child in v._prev:\n",
        "                # Add an edge from the previous node to the current node\n",
        "                edges.add((child, v))\n",
        "\n",
        "                # Recursively call build() on the previous node\n",
        "                build(child)\n",
        "\n",
        "    # Start building the set of nodes and edges from the root node\n",
        "    build(root)\n",
        "\n",
        "    # Return the set of nodes and edges\n",
        "    return nodes, edges\n",
        "\n",
        "\n",
        "def draw_dot(root):\n",
        "    # Create a Digraph object with SVG format and set the graph attribute 'rankdir' to 'LR'\n",
        "    dot = Digraph(format='svg', graph_attr={'rankdir': 'LR'})\n",
        "\n",
        "    # Retrieve the nodes and edges from the root\n",
        "    nodes, edges = trace(root)\n",
        "\n",
        "    # Iterate over the nodes\n",
        "    for n in nodes:\n",
        "        uid = str(id(n))\n",
        "        # Convert the data array to a string representation\n",
        "        data_str = np.array2string(n.data, precision=4, separator=',', suppress_small=True)\n",
        "        # Convert the gradient array to a string representation\n",
        "        grad_str = np.array2string(n.grad, precision=4, separator=',', suppress_small=True)\n",
        "        # Create the label for the node using the node's label, data, and gradient strings\n",
        "        label = \"{ %s | data %s | grad %s }\" % (n.label, data_str, grad_str)\n",
        "        # Add a node to the graph with a unique ID, label, and shape 'record'\n",
        "        dot.node(name=uid, label=label, shape='record')\n",
        "\n",
        "        # If the node has an operation associated with it\n",
        "        if n._op:\n",
        "            # Add a node to the graph with a unique ID based on the node's ID and operation, and label it with the operation\n",
        "            dot.node(name=uid + n._op, label=n._op)\n",
        "            # Add an edge from the operation node to the current node\n",
        "            dot.edge(uid + n._op, uid)\n",
        "\n",
        "    # Iterate over the edges\n",
        "    for n1, n2 in edges:\n",
        "        # Add an edge from the first node's ID to the second node's ID concatenated with the operation name\n",
        "        dot.edge(str(id(n1)), str(id(n2)) + n2._op)\n",
        "\n",
        "    # Return the generated graph\n",
        "    return dot"
      ],
      "metadata": {
        "id": "A7ZBNn5E6pbV"
      },
      "execution_count": 3,
      "outputs": []
    },
    {
      "cell_type": "code",
      "source": [
        "# constructing and visualizing the computation graph for a simple neural network forward pass\n",
        "\n",
        "# inputs x1, x2\n",
        "x1 = Value([[2.0, 2.0], [2.0, 2.0]], label=\"x1\")\n",
        "x2 = Value([[0.0, 0.0], [0.0, 0.0]], label=\"x2\")\n",
        "\n",
        "# weights w1, w2\n",
        "w1 = Value([[-3.0, -3.0], [-3.0, -3.0]], label=\"w1\")\n",
        "w2 = Value([[1.0, 1.0], [1.0, 1.0]], label=\"w2\")\n",
        "\n",
        "# bias of the neurons\n",
        "b = Value([[6.8813735870195432, 6.8813735870195432], [6.8813735870195432, 6.8813735870195432]], label=\"b\")\n",
        "\n",
        "# x1*w1 + x2*w2 + b\n",
        "x1w1 = x1*w1; x1w1.label = 'x1*w1'\n",
        "x2w2 = x2*w2; x2w2.label = 'x2*w2'\n",
        "x1w1x2w2 = x1w1 + x2w2; x1w1x2w2.label = 'x1w1 + x2w2'\n",
        "n = x1w1x2w2 + b; n.label = 'n'\n",
        "\n",
        "# apply the hyperbolic tangent function to n\n",
        "o = n.tanh(); o.label = 'o'\n",
        "\n",
        "# visualize the computation graph\n",
        "draw_dot(o)"
      ],
      "metadata": {
        "colab": {
          "base_uri": "https://localhost:8080/",
          "height": 321
        },
        "id": "xbbZbm9oQrpM",
        "outputId": "ab4e6324-65ed-4ee6-dcb9-1c3ab99b23f2"
      },
      "execution_count": 4,
      "outputs": [
        {
          "output_type": "execute_result",
          "data": {
            "image/svg+xml": "<?xml version=\"1.0\" encoding=\"UTF-8\" standalone=\"no\"?>\n<!DOCTYPE svg PUBLIC \"-//W3C//DTD SVG 1.1//EN\"\n \"http://www.w3.org/Graphics/SVG/1.1/DTD/svg11.dtd\">\n<!-- Generated by graphviz version 2.43.0 (0)\n -->\n<!-- Title: %3 Pages: 1 -->\n<svg width=\"2302pt\" height=\"210pt\"\n viewBox=\"0.00 0.00 2302.00 210.00\" xmlns=\"http://www.w3.org/2000/svg\" xmlns:xlink=\"http://www.w3.org/1999/xlink\">\n<g id=\"graph0\" class=\"graph\" transform=\"scale(1 1) rotate(0) translate(4 206)\">\n<title>%3</title>\n<polygon fill=\"white\" stroke=\"transparent\" points=\"-4,4 -4,-206 2298,-206 2298,4 -4,4\"/>\n<!-- 139796153096736 -->\n<g id=\"node1\" class=\"node\">\n<title>139796153096736</title>\n<polygon fill=\"none\" stroke=\"black\" points=\"1396,-54.5 1396,-90.5 1782,-90.5 1782,-54.5 1396,-54.5\"/>\n<text text-anchor=\"middle\" x=\"1407.5\" y=\"-68.8\" font-family=\"Times,serif\" font-size=\"14.00\">n</text>\n<polyline fill=\"none\" stroke=\"black\" points=\"1419,-54.5 1419,-90.5 \"/>\n<text text-anchor=\"middle\" x=\"1536.5\" y=\"-68.8\" font-family=\"Times,serif\" font-size=\"14.00\">data [[0.8814,0.8814], [0.8814,0.8814]]</text>\n<polyline fill=\"none\" stroke=\"black\" points=\"1654,-54.5 1654,-90.5 \"/>\n<text text-anchor=\"middle\" x=\"1718\" y=\"-68.8\" font-family=\"Times,serif\" font-size=\"14.00\">grad [[0.,0.], [0.,0.]]</text>\n</g>\n<!-- 139796153097888tanh -->\n<g id=\"node6\" class=\"node\">\n<title>139796153097888tanh</title>\n<ellipse fill=\"none\" stroke=\"black\" cx=\"1845\" cy=\"-72.5\" rx=\"27\" ry=\"18\"/>\n<text text-anchor=\"middle\" x=\"1845\" y=\"-68.8\" font-family=\"Times,serif\" font-size=\"14.00\">tanh</text>\n</g>\n<!-- 139796153096736&#45;&gt;139796153097888tanh -->\n<g id=\"edge12\" class=\"edge\">\n<title>139796153096736&#45;&gt;139796153097888tanh</title>\n<path fill=\"none\" stroke=\"black\" d=\"M1782.19,-72.5C1791.45,-72.5 1800.08,-72.5 1807.77,-72.5\"/>\n<polygon fill=\"black\" stroke=\"black\" points=\"1808,-76 1818,-72.5 1808,-69 1808,-76\"/>\n</g>\n<!-- 139796153096736+ -->\n<g id=\"node2\" class=\"node\">\n<title>139796153096736+</title>\n<ellipse fill=\"none\" stroke=\"black\" cx=\"1333\" cy=\"-72.5\" rx=\"27\" ry=\"18\"/>\n<text text-anchor=\"middle\" x=\"1333\" y=\"-68.8\" font-family=\"Times,serif\" font-size=\"14.00\">+</text>\n</g>\n<!-- 139796153096736+&#45;&gt;139796153096736 -->\n<g id=\"edge1\" class=\"edge\">\n<title>139796153096736+&#45;&gt;139796153096736</title>\n<path fill=\"none\" stroke=\"black\" d=\"M1360.23,-72.5C1367.56,-72.5 1376.15,-72.5 1385.62,-72.5\"/>\n<polygon fill=\"black\" stroke=\"black\" points=\"1385.79,-76 1395.79,-72.5 1385.79,-69 1385.79,-76\"/>\n</g>\n<!-- 139796153351712 -->\n<g id=\"node3\" class=\"node\">\n<title>139796153351712</title>\n<polygon fill=\"none\" stroke=\"black\" points=\"0,-165.5 0,-201.5 306,-201.5 306,-165.5 0,-165.5\"/>\n<text text-anchor=\"middle\" x=\"16.5\" y=\"-179.8\" font-family=\"Times,serif\" font-size=\"14.00\">w1</text>\n<polyline fill=\"none\" stroke=\"black\" points=\"33,-165.5 33,-201.5 \"/>\n<text text-anchor=\"middle\" x=\"105.5\" y=\"-179.8\" font-family=\"Times,serif\" font-size=\"14.00\">data [[&#45;3.,&#45;3.], [&#45;3.,&#45;3.]]</text>\n<polyline fill=\"none\" stroke=\"black\" points=\"178,-165.5 178,-201.5 \"/>\n<text text-anchor=\"middle\" x=\"242\" y=\"-179.8\" font-family=\"Times,serif\" font-size=\"14.00\">grad [[0.,0.], [0.,0.]]</text>\n</g>\n<!-- 139796153099520* -->\n<g id=\"node12\" class=\"node\">\n<title>139796153099520*</title>\n<ellipse fill=\"none\" stroke=\"black\" cx=\"369\" cy=\"-128.5\" rx=\"27\" ry=\"18\"/>\n<text text-anchor=\"middle\" x=\"369\" y=\"-124.8\" font-family=\"Times,serif\" font-size=\"14.00\">*</text>\n</g>\n<!-- 139796153351712&#45;&gt;139796153099520* -->\n<g id=\"edge6\" class=\"edge\">\n<title>139796153351712&#45;&gt;139796153099520*</title>\n<path fill=\"none\" stroke=\"black\" d=\"M272.52,-165.42C283.93,-162.79 295.25,-159.83 306,-156.5 316.77,-153.17 328.14,-148.43 338.15,-143.79\"/>\n<polygon fill=\"black\" stroke=\"black\" points=\"339.76,-146.9 347.27,-139.43 336.74,-140.58 339.76,-146.9\"/>\n</g>\n<!-- 139796153351760 -->\n<g id=\"node4\" class=\"node\">\n<title>139796153351760</title>\n<polygon fill=\"none\" stroke=\"black\" points=\"9,-55.5 9,-91.5 297,-91.5 297,-55.5 9,-55.5\"/>\n<text text-anchor=\"middle\" x=\"25.5\" y=\"-69.8\" font-family=\"Times,serif\" font-size=\"14.00\">w2</text>\n<polyline fill=\"none\" stroke=\"black\" points=\"42,-55.5 42,-91.5 \"/>\n<text text-anchor=\"middle\" x=\"105.5\" y=\"-69.8\" font-family=\"Times,serif\" font-size=\"14.00\">data [[1.,1.], [1.,1.]]</text>\n<polyline fill=\"none\" stroke=\"black\" points=\"169,-55.5 169,-91.5 \"/>\n<text text-anchor=\"middle\" x=\"233\" y=\"-69.8\" font-family=\"Times,serif\" font-size=\"14.00\">grad [[0.,0.], [0.,0.]]</text>\n</g>\n<!-- 139796153097456* -->\n<g id=\"node14\" class=\"node\">\n<title>139796153097456*</title>\n<ellipse fill=\"none\" stroke=\"black\" cx=\"369\" cy=\"-73.5\" rx=\"27\" ry=\"18\"/>\n<text text-anchor=\"middle\" x=\"369\" y=\"-69.8\" font-family=\"Times,serif\" font-size=\"14.00\">*</text>\n</g>\n<!-- 139796153351760&#45;&gt;139796153097456* -->\n<g id=\"edge11\" class=\"edge\">\n<title>139796153351760&#45;&gt;139796153097456*</title>\n<path fill=\"none\" stroke=\"black\" d=\"M297.04,-73.5C309.63,-73.5 321.46,-73.5 331.73,-73.5\"/>\n<polygon fill=\"black\" stroke=\"black\" points=\"331.82,-77 341.82,-73.5 331.82,-70 331.82,-77\"/>\n</g>\n<!-- 139796153097888 -->\n<g id=\"node5\" class=\"node\">\n<title>139796153097888</title>\n<polygon fill=\"none\" stroke=\"black\" points=\"1908,-54.5 1908,-90.5 2294,-90.5 2294,-54.5 1908,-54.5\"/>\n<text text-anchor=\"middle\" x=\"1919.5\" y=\"-68.8\" font-family=\"Times,serif\" font-size=\"14.00\">o</text>\n<polyline fill=\"none\" stroke=\"black\" points=\"1931,-54.5 1931,-90.5 \"/>\n<text text-anchor=\"middle\" x=\"2048.5\" y=\"-68.8\" font-family=\"Times,serif\" font-size=\"14.00\">data [[0.7071,0.7071], [0.7071,0.7071]]</text>\n<polyline fill=\"none\" stroke=\"black\" points=\"2166,-54.5 2166,-90.5 \"/>\n<text text-anchor=\"middle\" x=\"2230\" y=\"-68.8\" font-family=\"Times,serif\" font-size=\"14.00\">grad [[0.,0.], [0.,0.]]</text>\n</g>\n<!-- 139796153097888tanh&#45;&gt;139796153097888 -->\n<g id=\"edge2\" class=\"edge\">\n<title>139796153097888tanh&#45;&gt;139796153097888</title>\n<path fill=\"none\" stroke=\"black\" d=\"M1872.23,-72.5C1879.56,-72.5 1888.15,-72.5 1897.62,-72.5\"/>\n<polygon fill=\"black\" stroke=\"black\" points=\"1897.79,-76 1907.79,-72.5 1897.79,-69 1897.79,-76\"/>\n</g>\n<!-- 139796153351856 -->\n<g id=\"node7\" class=\"node\">\n<title>139796153351856</title>\n<polygon fill=\"none\" stroke=\"black\" points=\"10.5,-110.5 10.5,-146.5 295.5,-146.5 295.5,-110.5 10.5,-110.5\"/>\n<text text-anchor=\"middle\" x=\"25.5\" y=\"-124.8\" font-family=\"Times,serif\" font-size=\"14.00\">x1</text>\n<polyline fill=\"none\" stroke=\"black\" points=\"40.5,-110.5 40.5,-146.5 \"/>\n<text text-anchor=\"middle\" x=\"104\" y=\"-124.8\" font-family=\"Times,serif\" font-size=\"14.00\">data [[2.,2.], [2.,2.]]</text>\n<polyline fill=\"none\" stroke=\"black\" points=\"167.5,-110.5 167.5,-146.5 \"/>\n<text text-anchor=\"middle\" x=\"231.5\" y=\"-124.8\" font-family=\"Times,serif\" font-size=\"14.00\">grad [[0.,0.], [0.,0.]]</text>\n</g>\n<!-- 139796153351856&#45;&gt;139796153099520* -->\n<g id=\"edge7\" class=\"edge\">\n<title>139796153351856&#45;&gt;139796153099520*</title>\n<path fill=\"none\" stroke=\"black\" d=\"M295.55,-128.5C308.72,-128.5 321.12,-128.5 331.8,-128.5\"/>\n<polygon fill=\"black\" stroke=\"black\" points=\"331.88,-132 341.88,-128.5 331.88,-125 331.88,-132\"/>\n</g>\n<!-- 139796153096928 -->\n<g id=\"node8\" class=\"node\">\n<title>139796153096928</title>\n<polygon fill=\"none\" stroke=\"black\" points=\"894.5,-82.5 894.5,-118.5 1259.5,-118.5 1259.5,-82.5 894.5,-82.5\"/>\n<text text-anchor=\"middle\" x=\"940.5\" y=\"-96.8\" font-family=\"Times,serif\" font-size=\"14.00\">x1w1 + x2w2</text>\n<polyline fill=\"none\" stroke=\"black\" points=\"986.5,-82.5 986.5,-118.5 \"/>\n<text text-anchor=\"middle\" x=\"1059\" y=\"-96.8\" font-family=\"Times,serif\" font-size=\"14.00\">data [[&#45;6.,&#45;6.], [&#45;6.,&#45;6.]]</text>\n<polyline fill=\"none\" stroke=\"black\" points=\"1131.5,-82.5 1131.5,-118.5 \"/>\n<text text-anchor=\"middle\" x=\"1195.5\" y=\"-96.8\" font-family=\"Times,serif\" font-size=\"14.00\">grad [[0.,0.], [0.,0.]]</text>\n</g>\n<!-- 139796153096928&#45;&gt;139796153096736+ -->\n<g id=\"edge13\" class=\"edge\">\n<title>139796153096928&#45;&gt;139796153096736+</title>\n<path fill=\"none\" stroke=\"black\" d=\"M1241.38,-82.49C1261.88,-80.23 1281,-78.12 1296.34,-76.43\"/>\n<polygon fill=\"black\" stroke=\"black\" points=\"1296.77,-79.9 1306.33,-75.33 1296,-72.95 1296.77,-79.9\"/>\n</g>\n<!-- 139796153096928+ -->\n<g id=\"node9\" class=\"node\">\n<title>139796153096928+</title>\n<ellipse fill=\"none\" stroke=\"black\" cx=\"821\" cy=\"-100.5\" rx=\"27\" ry=\"18\"/>\n<text text-anchor=\"middle\" x=\"821\" y=\"-96.8\" font-family=\"Times,serif\" font-size=\"14.00\">+</text>\n</g>\n<!-- 139796153096928+&#45;&gt;139796153096928 -->\n<g id=\"edge3\" class=\"edge\">\n<title>139796153096928+&#45;&gt;139796153096928</title>\n<path fill=\"none\" stroke=\"black\" d=\"M848.23,-100.5C858.22,-100.5 870.54,-100.5 884.23,-100.5\"/>\n<polygon fill=\"black\" stroke=\"black\" points=\"884.43,-104 894.43,-100.5 884.43,-97 884.43,-104\"/>\n</g>\n<!-- 139796153351904 -->\n<g id=\"node10\" class=\"node\">\n<title>139796153351904</title>\n<polygon fill=\"none\" stroke=\"black\" points=\"884,-27.5 884,-63.5 1270,-63.5 1270,-27.5 884,-27.5\"/>\n<text text-anchor=\"middle\" x=\"895.5\" y=\"-41.8\" font-family=\"Times,serif\" font-size=\"14.00\">b</text>\n<polyline fill=\"none\" stroke=\"black\" points=\"907,-27.5 907,-63.5 \"/>\n<text text-anchor=\"middle\" x=\"1024.5\" y=\"-41.8\" font-family=\"Times,serif\" font-size=\"14.00\">data [[6.8814,6.8814], [6.8814,6.8814]]</text>\n<polyline fill=\"none\" stroke=\"black\" points=\"1142,-27.5 1142,-63.5 \"/>\n<text text-anchor=\"middle\" x=\"1206\" y=\"-41.8\" font-family=\"Times,serif\" font-size=\"14.00\">grad [[0.,0.], [0.,0.]]</text>\n</g>\n<!-- 139796153351904&#45;&gt;139796153096736+ -->\n<g id=\"edge8\" class=\"edge\">\n<title>139796153351904&#45;&gt;139796153096736+</title>\n<path fill=\"none\" stroke=\"black\" d=\"M1247.42,-63.51C1265.37,-65.42 1282.05,-67.19 1295.76,-68.65\"/>\n<polygon fill=\"black\" stroke=\"black\" points=\"1295.78,-72.17 1306.1,-69.75 1296.52,-65.21 1295.78,-72.17\"/>\n</g>\n<!-- 139796153099520 -->\n<g id=\"node11\" class=\"node\">\n<title>139796153099520</title>\n<polygon fill=\"none\" stroke=\"black\" points=\"432,-110.5 432,-146.5 758,-146.5 758,-110.5 432,-110.5\"/>\n<text text-anchor=\"middle\" x=\"458.5\" y=\"-124.8\" font-family=\"Times,serif\" font-size=\"14.00\">x1*w1</text>\n<polyline fill=\"none\" stroke=\"black\" points=\"485,-110.5 485,-146.5 \"/>\n<text text-anchor=\"middle\" x=\"557.5\" y=\"-124.8\" font-family=\"Times,serif\" font-size=\"14.00\">data [[&#45;6.,&#45;6.], [&#45;6.,&#45;6.]]</text>\n<polyline fill=\"none\" stroke=\"black\" points=\"630,-110.5 630,-146.5 \"/>\n<text text-anchor=\"middle\" x=\"694\" y=\"-124.8\" font-family=\"Times,serif\" font-size=\"14.00\">grad [[0.,0.], [0.,0.]]</text>\n</g>\n<!-- 139796153099520&#45;&gt;139796153096928+ -->\n<g id=\"edge14\" class=\"edge\">\n<title>139796153099520&#45;&gt;139796153096928+</title>\n<path fill=\"none\" stroke=\"black\" d=\"M740.08,-110.49C756.27,-108.47 771.48,-106.56 784.2,-104.97\"/>\n<polygon fill=\"black\" stroke=\"black\" points=\"784.78,-108.43 794.27,-103.72 783.91,-101.48 784.78,-108.43\"/>\n</g>\n<!-- 139796153099520*&#45;&gt;139796153099520 -->\n<g id=\"edge4\" class=\"edge\">\n<title>139796153099520*&#45;&gt;139796153099520</title>\n<path fill=\"none\" stroke=\"black\" d=\"M396.13,-128.5C403.5,-128.5 412.11,-128.5 421.52,-128.5\"/>\n<polygon fill=\"black\" stroke=\"black\" points=\"421.62,-132 431.62,-128.5 421.62,-125 421.62,-132\"/>\n</g>\n<!-- 139796153097456 -->\n<g id=\"node13\" class=\"node\">\n<title>139796153097456</title>\n<polygon fill=\"none\" stroke=\"black\" points=\"441,-55.5 441,-91.5 749,-91.5 749,-55.5 441,-55.5\"/>\n<text text-anchor=\"middle\" x=\"467.5\" y=\"-69.8\" font-family=\"Times,serif\" font-size=\"14.00\">x2*w2</text>\n<polyline fill=\"none\" stroke=\"black\" points=\"494,-55.5 494,-91.5 \"/>\n<text text-anchor=\"middle\" x=\"557.5\" y=\"-69.8\" font-family=\"Times,serif\" font-size=\"14.00\">data [[0.,0.], [0.,0.]]</text>\n<polyline fill=\"none\" stroke=\"black\" points=\"621,-55.5 621,-91.5 \"/>\n<text text-anchor=\"middle\" x=\"685\" y=\"-69.8\" font-family=\"Times,serif\" font-size=\"14.00\">grad [[0.,0.], [0.,0.]]</text>\n</g>\n<!-- 139796153097456&#45;&gt;139796153096928+ -->\n<g id=\"edge9\" class=\"edge\">\n<title>139796153097456&#45;&gt;139796153096928+</title>\n<path fill=\"none\" stroke=\"black\" d=\"M745.41,-91.51C759.52,-93.21 772.74,-94.8 784.01,-96.16\"/>\n<polygon fill=\"black\" stroke=\"black\" points=\"783.83,-99.67 794.18,-97.39 784.67,-92.72 783.83,-99.67\"/>\n</g>\n<!-- 139796153097456*&#45;&gt;139796153097456 -->\n<g id=\"edge5\" class=\"edge\">\n<title>139796153097456*&#45;&gt;139796153097456</title>\n<path fill=\"none\" stroke=\"black\" d=\"M396.13,-73.5C405.79,-73.5 417.58,-73.5 430.53,-73.5\"/>\n<polygon fill=\"black\" stroke=\"black\" points=\"430.66,-77 440.66,-73.5 430.66,-70 430.66,-77\"/>\n</g>\n<!-- 139796153352000 -->\n<g id=\"node15\" class=\"node\">\n<title>139796153352000</title>\n<polygon fill=\"none\" stroke=\"black\" points=\"10.5,-0.5 10.5,-36.5 295.5,-36.5 295.5,-0.5 10.5,-0.5\"/>\n<text text-anchor=\"middle\" x=\"25.5\" y=\"-14.8\" font-family=\"Times,serif\" font-size=\"14.00\">x2</text>\n<polyline fill=\"none\" stroke=\"black\" points=\"40.5,-0.5 40.5,-36.5 \"/>\n<text text-anchor=\"middle\" x=\"104\" y=\"-14.8\" font-family=\"Times,serif\" font-size=\"14.00\">data [[0.,0.], [0.,0.]]</text>\n<polyline fill=\"none\" stroke=\"black\" points=\"167.5,-0.5 167.5,-36.5 \"/>\n<text text-anchor=\"middle\" x=\"231.5\" y=\"-14.8\" font-family=\"Times,serif\" font-size=\"14.00\">grad [[0.,0.], [0.,0.]]</text>\n</g>\n<!-- 139796153352000&#45;&gt;139796153097456* -->\n<g id=\"edge10\" class=\"edge\">\n<title>139796153352000&#45;&gt;139796153097456*</title>\n<path fill=\"none\" stroke=\"black\" d=\"M272.52,-36.58C283.93,-39.21 295.25,-42.17 306,-45.5 316.77,-48.83 328.14,-53.57 338.15,-58.21\"/>\n<polygon fill=\"black\" stroke=\"black\" points=\"336.74,-61.42 347.27,-62.57 339.76,-55.1 336.74,-61.42\"/>\n</g>\n</g>\n</svg>\n",
            "text/plain": [
              "<graphviz.graphs.Digraph at 0x7f24d40bdd50>"
            ]
          },
          "metadata": {},
          "execution_count": 4
        }
      ]
    },
    {
      "cell_type": "code",
      "source": [
        "# perform backward propagation to compute gradients\n",
        "o.backward()\n",
        "\n",
        "# visualizing the updated computation graph\n",
        "draw_dot(o)"
      ],
      "metadata": {
        "colab": {
          "base_uri": "https://localhost:8080/",
          "height": 321
        },
        "id": "hvww7sRl42kZ",
        "outputId": "0fc84753-9dd5-46e3-a58b-fa9ec9b761f8"
      },
      "execution_count": 5,
      "outputs": [
        {
          "output_type": "execute_result",
          "data": {
            "image/svg+xml": "<?xml version=\"1.0\" encoding=\"UTF-8\" standalone=\"no\"?>\n<!DOCTYPE svg PUBLIC \"-//W3C//DTD SVG 1.1//EN\"\n \"http://www.w3.org/Graphics/SVG/1.1/DTD/svg11.dtd\">\n<!-- Generated by graphviz version 2.43.0 (0)\n -->\n<!-- Title: %3 Pages: 1 -->\n<svg width=\"2407pt\" height=\"210pt\"\n viewBox=\"0.00 0.00 2407.00 210.00\" xmlns=\"http://www.w3.org/2000/svg\" xmlns:xlink=\"http://www.w3.org/1999/xlink\">\n<g id=\"graph0\" class=\"graph\" transform=\"scale(1 1) rotate(0) translate(4 206)\">\n<title>%3</title>\n<polygon fill=\"white\" stroke=\"transparent\" points=\"-4,4 -4,-206 2403,-206 2403,4 -4,4\"/>\n<!-- 139796153096736 -->\n<g id=\"node1\" class=\"node\">\n<title>139796153096736</title>\n<polygon fill=\"none\" stroke=\"black\" points=\"1474,-54.5 1474,-90.5 1887,-90.5 1887,-54.5 1474,-54.5\"/>\n<text text-anchor=\"middle\" x=\"1485.5\" y=\"-68.8\" font-family=\"Times,serif\" font-size=\"14.00\">n</text>\n<polyline fill=\"none\" stroke=\"black\" points=\"1497,-54.5 1497,-90.5 \"/>\n<text text-anchor=\"middle\" x=\"1614.5\" y=\"-68.8\" font-family=\"Times,serif\" font-size=\"14.00\">data [[0.8814,0.8814], [0.8814,0.8814]]</text>\n<polyline fill=\"none\" stroke=\"black\" points=\"1732,-54.5 1732,-90.5 \"/>\n<text text-anchor=\"middle\" x=\"1809.5\" y=\"-68.8\" font-family=\"Times,serif\" font-size=\"14.00\">grad [[0.5,0.5], [0.5,0.5]]</text>\n</g>\n<!-- 139796153097888tanh -->\n<g id=\"node6\" class=\"node\">\n<title>139796153097888tanh</title>\n<ellipse fill=\"none\" stroke=\"black\" cx=\"1950\" cy=\"-72.5\" rx=\"27\" ry=\"18\"/>\n<text text-anchor=\"middle\" x=\"1950\" y=\"-68.8\" font-family=\"Times,serif\" font-size=\"14.00\">tanh</text>\n</g>\n<!-- 139796153096736&#45;&gt;139796153097888tanh -->\n<g id=\"edge12\" class=\"edge\">\n<title>139796153096736&#45;&gt;139796153097888tanh</title>\n<path fill=\"none\" stroke=\"black\" d=\"M1887.29,-72.5C1896.5,-72.5 1905.06,-72.5 1912.69,-72.5\"/>\n<polygon fill=\"black\" stroke=\"black\" points=\"1912.83,-76 1922.83,-72.5 1912.83,-69 1912.83,-76\"/>\n</g>\n<!-- 139796153096736+ -->\n<g id=\"node2\" class=\"node\">\n<title>139796153096736+</title>\n<ellipse fill=\"none\" stroke=\"black\" cx=\"1411\" cy=\"-72.5\" rx=\"27\" ry=\"18\"/>\n<text text-anchor=\"middle\" x=\"1411\" y=\"-68.8\" font-family=\"Times,serif\" font-size=\"14.00\">+</text>\n</g>\n<!-- 139796153096736+&#45;&gt;139796153096736 -->\n<g id=\"edge1\" class=\"edge\">\n<title>139796153096736+&#45;&gt;139796153096736</title>\n<path fill=\"none\" stroke=\"black\" d=\"M1438.14,-72.5C1445.5,-72.5 1454.15,-72.5 1463.7,-72.5\"/>\n<polygon fill=\"black\" stroke=\"black\" points=\"1463.98,-76 1473.98,-72.5 1463.98,-69 1463.98,-76\"/>\n</g>\n<!-- 139796153351712 -->\n<g id=\"node3\" class=\"node\">\n<title>139796153351712</title>\n<polygon fill=\"none\" stroke=\"black\" points=\"12,-165.5 12,-201.5 318,-201.5 318,-165.5 12,-165.5\"/>\n<text text-anchor=\"middle\" x=\"28.5\" y=\"-179.8\" font-family=\"Times,serif\" font-size=\"14.00\">w1</text>\n<polyline fill=\"none\" stroke=\"black\" points=\"45,-165.5 45,-201.5 \"/>\n<text text-anchor=\"middle\" x=\"117.5\" y=\"-179.8\" font-family=\"Times,serif\" font-size=\"14.00\">data [[&#45;3.,&#45;3.], [&#45;3.,&#45;3.]]</text>\n<polyline fill=\"none\" stroke=\"black\" points=\"190,-165.5 190,-201.5 \"/>\n<text text-anchor=\"middle\" x=\"254\" y=\"-179.8\" font-family=\"Times,serif\" font-size=\"14.00\">grad [[1.,1.], [1.,1.]]</text>\n</g>\n<!-- 139796153099520* -->\n<g id=\"node12\" class=\"node\">\n<title>139796153099520*</title>\n<ellipse fill=\"none\" stroke=\"black\" cx=\"393\" cy=\"-128.5\" rx=\"27\" ry=\"18\"/>\n<text text-anchor=\"middle\" x=\"393\" y=\"-124.8\" font-family=\"Times,serif\" font-size=\"14.00\">*</text>\n</g>\n<!-- 139796153351712&#45;&gt;139796153099520* -->\n<g id=\"edge6\" class=\"edge\">\n<title>139796153351712&#45;&gt;139796153099520*</title>\n<path fill=\"none\" stroke=\"black\" d=\"M295.64,-165.41C307.35,-162.8 318.95,-159.84 330,-156.5 340.79,-153.24 352.16,-148.51 362.17,-143.87\"/>\n<polygon fill=\"black\" stroke=\"black\" points=\"363.79,-146.98 371.29,-139.5 360.76,-140.66 363.79,-146.98\"/>\n</g>\n<!-- 139796153351760 -->\n<g id=\"node4\" class=\"node\">\n<title>139796153351760</title>\n<polygon fill=\"none\" stroke=\"black\" points=\"21,-55.5 21,-91.5 309,-91.5 309,-55.5 21,-55.5\"/>\n<text text-anchor=\"middle\" x=\"37.5\" y=\"-69.8\" font-family=\"Times,serif\" font-size=\"14.00\">w2</text>\n<polyline fill=\"none\" stroke=\"black\" points=\"54,-55.5 54,-91.5 \"/>\n<text text-anchor=\"middle\" x=\"117.5\" y=\"-69.8\" font-family=\"Times,serif\" font-size=\"14.00\">data [[1.,1.], [1.,1.]]</text>\n<polyline fill=\"none\" stroke=\"black\" points=\"181,-55.5 181,-91.5 \"/>\n<text text-anchor=\"middle\" x=\"245\" y=\"-69.8\" font-family=\"Times,serif\" font-size=\"14.00\">grad [[0.,0.], [0.,0.]]</text>\n</g>\n<!-- 139796153097456* -->\n<g id=\"node14\" class=\"node\">\n<title>139796153097456*</title>\n<ellipse fill=\"none\" stroke=\"black\" cx=\"393\" cy=\"-73.5\" rx=\"27\" ry=\"18\"/>\n<text text-anchor=\"middle\" x=\"393\" y=\"-69.8\" font-family=\"Times,serif\" font-size=\"14.00\">*</text>\n</g>\n<!-- 139796153351760&#45;&gt;139796153097456* -->\n<g id=\"edge11\" class=\"edge\">\n<title>139796153351760&#45;&gt;139796153097456*</title>\n<path fill=\"none\" stroke=\"black\" d=\"M309.13,-73.5C326.27,-73.5 342.42,-73.5 355.82,-73.5\"/>\n<polygon fill=\"black\" stroke=\"black\" points=\"355.95,-77 365.95,-73.5 355.95,-70 355.95,-77\"/>\n</g>\n<!-- 139796153097888 -->\n<g id=\"node5\" class=\"node\">\n<title>139796153097888</title>\n<polygon fill=\"none\" stroke=\"black\" points=\"2013,-54.5 2013,-90.5 2399,-90.5 2399,-54.5 2013,-54.5\"/>\n<text text-anchor=\"middle\" x=\"2024.5\" y=\"-68.8\" font-family=\"Times,serif\" font-size=\"14.00\">o</text>\n<polyline fill=\"none\" stroke=\"black\" points=\"2036,-54.5 2036,-90.5 \"/>\n<text text-anchor=\"middle\" x=\"2153.5\" y=\"-68.8\" font-family=\"Times,serif\" font-size=\"14.00\">data [[0.7071,0.7071], [0.7071,0.7071]]</text>\n<polyline fill=\"none\" stroke=\"black\" points=\"2271,-54.5 2271,-90.5 \"/>\n<text text-anchor=\"middle\" x=\"2335\" y=\"-68.8\" font-family=\"Times,serif\" font-size=\"14.00\">grad [[1.,1.], [1.,1.]]</text>\n</g>\n<!-- 139796153097888tanh&#45;&gt;139796153097888 -->\n<g id=\"edge2\" class=\"edge\">\n<title>139796153097888tanh&#45;&gt;139796153097888</title>\n<path fill=\"none\" stroke=\"black\" d=\"M1977.23,-72.5C1984.56,-72.5 1993.15,-72.5 2002.62,-72.5\"/>\n<polygon fill=\"black\" stroke=\"black\" points=\"2002.79,-76 2012.79,-72.5 2002.79,-69 2002.79,-76\"/>\n</g>\n<!-- 139796153351856 -->\n<g id=\"node7\" class=\"node\">\n<title>139796153351856</title>\n<polygon fill=\"none\" stroke=\"black\" points=\"0,-110.5 0,-146.5 330,-146.5 330,-110.5 0,-110.5\"/>\n<text text-anchor=\"middle\" x=\"15\" y=\"-124.8\" font-family=\"Times,serif\" font-size=\"14.00\">x1</text>\n<polyline fill=\"none\" stroke=\"black\" points=\"30,-110.5 30,-146.5 \"/>\n<text text-anchor=\"middle\" x=\"93.5\" y=\"-124.8\" font-family=\"Times,serif\" font-size=\"14.00\">data [[2.,2.], [2.,2.]]</text>\n<polyline fill=\"none\" stroke=\"black\" points=\"157,-110.5 157,-146.5 \"/>\n<text text-anchor=\"middle\" x=\"243.5\" y=\"-124.8\" font-family=\"Times,serif\" font-size=\"14.00\">grad [[&#45;1.5,&#45;1.5], [&#45;1.5,&#45;1.5]]</text>\n</g>\n<!-- 139796153351856&#45;&gt;139796153099520* -->\n<g id=\"edge7\" class=\"edge\">\n<title>139796153351856&#45;&gt;139796153099520*</title>\n<path fill=\"none\" stroke=\"black\" d=\"M330.24,-128.5C339.36,-128.5 347.92,-128.5 355.59,-128.5\"/>\n<polygon fill=\"black\" stroke=\"black\" points=\"355.8,-132 365.8,-128.5 355.8,-125 355.8,-132\"/>\n</g>\n<!-- 139796153096928 -->\n<g id=\"node8\" class=\"node\">\n<title>139796153096928</title>\n<polygon fill=\"none\" stroke=\"black\" points=\"945.5,-82.5 945.5,-118.5 1337.5,-118.5 1337.5,-82.5 945.5,-82.5\"/>\n<text text-anchor=\"middle\" x=\"991.5\" y=\"-96.8\" font-family=\"Times,serif\" font-size=\"14.00\">x1w1 + x2w2</text>\n<polyline fill=\"none\" stroke=\"black\" points=\"1037.5,-82.5 1037.5,-118.5 \"/>\n<text text-anchor=\"middle\" x=\"1110\" y=\"-96.8\" font-family=\"Times,serif\" font-size=\"14.00\">data [[&#45;6.,&#45;6.], [&#45;6.,&#45;6.]]</text>\n<polyline fill=\"none\" stroke=\"black\" points=\"1182.5,-82.5 1182.5,-118.5 \"/>\n<text text-anchor=\"middle\" x=\"1260\" y=\"-96.8\" font-family=\"Times,serif\" font-size=\"14.00\">grad [[0.5,0.5], [0.5,0.5]]</text>\n</g>\n<!-- 139796153096928&#45;&gt;139796153096736+ -->\n<g id=\"edge13\" class=\"edge\">\n<title>139796153096928&#45;&gt;139796153096736+</title>\n<path fill=\"none\" stroke=\"black\" d=\"M1314.56,-82.49C1336.86,-80.16 1357.6,-77.98 1374.02,-76.27\"/>\n<polygon fill=\"black\" stroke=\"black\" points=\"1374.57,-79.73 1384.15,-75.21 1373.84,-72.77 1374.57,-79.73\"/>\n</g>\n<!-- 139796153096928+ -->\n<g id=\"node9\" class=\"node\">\n<title>139796153096928+</title>\n<ellipse fill=\"none\" stroke=\"black\" cx=\"872\" cy=\"-100.5\" rx=\"27\" ry=\"18\"/>\n<text text-anchor=\"middle\" x=\"872\" y=\"-96.8\" font-family=\"Times,serif\" font-size=\"14.00\">+</text>\n</g>\n<!-- 139796153096928+&#45;&gt;139796153096928 -->\n<g id=\"edge3\" class=\"edge\">\n<title>139796153096928+&#45;&gt;139796153096928</title>\n<path fill=\"none\" stroke=\"black\" d=\"M899.14,-100.5C909.08,-100.5 921.35,-100.5 935.05,-100.5\"/>\n<polygon fill=\"black\" stroke=\"black\" points=\"935.27,-104 945.27,-100.5 935.27,-97 935.27,-104\"/>\n</g>\n<!-- 139796153351904 -->\n<g id=\"node10\" class=\"node\">\n<title>139796153351904</title>\n<polygon fill=\"none\" stroke=\"black\" points=\"935,-27.5 935,-63.5 1348,-63.5 1348,-27.5 935,-27.5\"/>\n<text text-anchor=\"middle\" x=\"946.5\" y=\"-41.8\" font-family=\"Times,serif\" font-size=\"14.00\">b</text>\n<polyline fill=\"none\" stroke=\"black\" points=\"958,-27.5 958,-63.5 \"/>\n<text text-anchor=\"middle\" x=\"1075.5\" y=\"-41.8\" font-family=\"Times,serif\" font-size=\"14.00\">data [[6.8814,6.8814], [6.8814,6.8814]]</text>\n<polyline fill=\"none\" stroke=\"black\" points=\"1193,-27.5 1193,-63.5 \"/>\n<text text-anchor=\"middle\" x=\"1270.5\" y=\"-41.8\" font-family=\"Times,serif\" font-size=\"14.00\">grad [[0.5,0.5], [0.5,0.5]]</text>\n</g>\n<!-- 139796153351904&#45;&gt;139796153096736+ -->\n<g id=\"edge8\" class=\"edge\">\n<title>139796153351904&#45;&gt;139796153096736+</title>\n<path fill=\"none\" stroke=\"black\" d=\"M1320.93,-63.51C1340.82,-65.52 1359.23,-67.38 1374.08,-68.87\"/>\n<polygon fill=\"black\" stroke=\"black\" points=\"1373.94,-72.38 1384.24,-69.9 1374.64,-65.41 1373.94,-72.38\"/>\n</g>\n<!-- 139796153099520 -->\n<g id=\"node11\" class=\"node\">\n<title>139796153099520</title>\n<polygon fill=\"none\" stroke=\"black\" points=\"456,-110.5 456,-146.5 809,-146.5 809,-110.5 456,-110.5\"/>\n<text text-anchor=\"middle\" x=\"482.5\" y=\"-124.8\" font-family=\"Times,serif\" font-size=\"14.00\">x1*w1</text>\n<polyline fill=\"none\" stroke=\"black\" points=\"509,-110.5 509,-146.5 \"/>\n<text text-anchor=\"middle\" x=\"581.5\" y=\"-124.8\" font-family=\"Times,serif\" font-size=\"14.00\">data [[&#45;6.,&#45;6.], [&#45;6.,&#45;6.]]</text>\n<polyline fill=\"none\" stroke=\"black\" points=\"654,-110.5 654,-146.5 \"/>\n<text text-anchor=\"middle\" x=\"731.5\" y=\"-124.8\" font-family=\"Times,serif\" font-size=\"14.00\">grad [[0.5,0.5], [0.5,0.5]]</text>\n</g>\n<!-- 139796153099520&#45;&gt;139796153096928+ -->\n<g id=\"edge14\" class=\"edge\">\n<title>139796153099520&#45;&gt;139796153096928+</title>\n<path fill=\"none\" stroke=\"black\" d=\"M786.26,-110.49C804.35,-108.36 821.28,-106.36 835.18,-104.72\"/>\n<polygon fill=\"black\" stroke=\"black\" points=\"835.67,-108.19 845.19,-103.54 834.85,-101.24 835.67,-108.19\"/>\n</g>\n<!-- 139796153099520*&#45;&gt;139796153099520 -->\n<g id=\"edge4\" class=\"edge\">\n<title>139796153099520*&#45;&gt;139796153099520</title>\n<path fill=\"none\" stroke=\"black\" d=\"M420.32,-128.5C427.67,-128.5 436.26,-128.5 445.69,-128.5\"/>\n<polygon fill=\"black\" stroke=\"black\" points=\"445.79,-132 455.79,-128.5 445.79,-125 445.79,-132\"/>\n</g>\n<!-- 139796153097456 -->\n<g id=\"node13\" class=\"node\">\n<title>139796153097456</title>\n<polygon fill=\"none\" stroke=\"black\" points=\"465,-55.5 465,-91.5 800,-91.5 800,-55.5 465,-55.5\"/>\n<text text-anchor=\"middle\" x=\"491.5\" y=\"-69.8\" font-family=\"Times,serif\" font-size=\"14.00\">x2*w2</text>\n<polyline fill=\"none\" stroke=\"black\" points=\"518,-55.5 518,-91.5 \"/>\n<text text-anchor=\"middle\" x=\"581.5\" y=\"-69.8\" font-family=\"Times,serif\" font-size=\"14.00\">data [[0.,0.], [0.,0.]]</text>\n<polyline fill=\"none\" stroke=\"black\" points=\"645,-55.5 645,-91.5 \"/>\n<text text-anchor=\"middle\" x=\"722.5\" y=\"-69.8\" font-family=\"Times,serif\" font-size=\"14.00\">grad [[0.5,0.5], [0.5,0.5]]</text>\n</g>\n<!-- 139796153097456&#45;&gt;139796153096928+ -->\n<g id=\"edge9\" class=\"edge\">\n<title>139796153097456&#45;&gt;139796153096928+</title>\n<path fill=\"none\" stroke=\"black\" d=\"M791.92,-91.51C807.71,-93.3 822.45,-94.98 834.82,-96.39\"/>\n<polygon fill=\"black\" stroke=\"black\" points=\"834.71,-99.9 845.05,-97.55 835.51,-92.94 834.71,-99.9\"/>\n</g>\n<!-- 139796153097456*&#45;&gt;139796153097456 -->\n<g id=\"edge5\" class=\"edge\">\n<title>139796153097456*&#45;&gt;139796153097456</title>\n<path fill=\"none\" stroke=\"black\" d=\"M420.32,-73.5C429.95,-73.5 441.69,-73.5 454.66,-73.5\"/>\n<polygon fill=\"black\" stroke=\"black\" points=\"454.81,-77 464.81,-73.5 454.81,-70 454.81,-77\"/>\n</g>\n<!-- 139796153352000 -->\n<g id=\"node15\" class=\"node\">\n<title>139796153352000</title>\n<polygon fill=\"none\" stroke=\"black\" points=\"9,-0.5 9,-36.5 321,-36.5 321,-0.5 9,-0.5\"/>\n<text text-anchor=\"middle\" x=\"24\" y=\"-14.8\" font-family=\"Times,serif\" font-size=\"14.00\">x2</text>\n<polyline fill=\"none\" stroke=\"black\" points=\"39,-0.5 39,-36.5 \"/>\n<text text-anchor=\"middle\" x=\"102.5\" y=\"-14.8\" font-family=\"Times,serif\" font-size=\"14.00\">data [[0.,0.], [0.,0.]]</text>\n<polyline fill=\"none\" stroke=\"black\" points=\"166,-0.5 166,-36.5 \"/>\n<text text-anchor=\"middle\" x=\"243.5\" y=\"-14.8\" font-family=\"Times,serif\" font-size=\"14.00\">grad [[0.5,0.5], [0.5,0.5]]</text>\n</g>\n<!-- 139796153352000&#45;&gt;139796153097456* -->\n<g id=\"edge10\" class=\"edge\">\n<title>139796153352000&#45;&gt;139796153097456*</title>\n<path fill=\"none\" stroke=\"black\" d=\"M295.64,-36.59C307.35,-39.2 318.95,-42.16 330,-45.5 340.79,-48.76 352.16,-53.49 362.17,-58.13\"/>\n<polygon fill=\"black\" stroke=\"black\" points=\"360.76,-61.34 371.29,-62.5 363.79,-55.02 360.76,-61.34\"/>\n</g>\n</g>\n</svg>\n",
            "text/plain": [
              "<graphviz.graphs.Digraph at 0x7f24d40fbac0>"
            ]
          },
          "metadata": {},
          "execution_count": 5
        }
      ]
    },
    {
      "cell_type": "code",
      "source": [
        "# constructing and visualizing the computation graph for a neural network forward pass and performing backward propagation\n",
        "\n",
        "# inputs x1,x2\n",
        "x1 = Value(2.0, label=\"x1\")\n",
        "x2 = Value(0.0, label=\"x2\")\n",
        "\n",
        "# weights w1, w2\n",
        "w1 = Value(-3.0, label=\"w1\")\n",
        "w2 = Value(1.0, label=\"w2\")\n",
        "\n",
        "# bias of the neurons\n",
        "b = Value(6.8813735870195432, label=\"b\")\n",
        "\n",
        "# x1*w1 + x2*w2 + b\n",
        "x1w1 = x1*w1; x1w1.label = 'x1*w1'\n",
        "x2w2 = x2*w2; x2w2.label = 'x2*w2'\n",
        "x1w1x2w2 = x1w1 + x2w2; x1w1x2w2.label = 'x1w1 + x2w2'\n",
        "n = x1w1x2w2 + b; n.label = 'n'\n",
        "\n",
        "# break tanh() into the following expression (hyperbolic tangent)\n",
        "\n",
        "# computes the value of 'e' by taking the exponential function of the expression '2*n'\n",
        "e = np.exp(2.0*n); e.label = 'e'\n",
        "# computes the value of 'o' using the values of 'e' & subtracts 1 from 'e' and divides it by 'e' plus 1, following a mathematical expression\n",
        "\n",
        "#o = (e - 1.0) / (e + 1.0); o.label = 'o'\n",
        "o = n.tanh(); o.label = 'o'\n",
        "\n",
        "# perform backward propagation to compute gradients\n",
        "o.backward()\n",
        "\n",
        "# visualizing the updated computation graph\n",
        "draw_dot(o)"
      ],
      "metadata": {
        "colab": {
          "base_uri": "https://localhost:8080/",
          "height": 321
        },
        "id": "xwgajW6t76VQ",
        "outputId": "e9717d43-00aa-47b6-ba06-38a4506cee5e"
      },
      "execution_count": 10,
      "outputs": [
        {
          "output_type": "execute_result",
          "data": {
            "image/svg+xml": "<?xml version=\"1.0\" encoding=\"UTF-8\" standalone=\"no\"?>\n<!DOCTYPE svg PUBLIC \"-//W3C//DTD SVG 1.1//EN\"\n \"http://www.w3.org/Graphics/SVG/1.1/DTD/svg11.dtd\">\n<!-- Generated by graphviz version 2.43.0 (0)\n -->\n<!-- Title: %3 Pages: 1 -->\n<svg width=\"1369pt\" height=\"210pt\"\n viewBox=\"0.00 0.00 1369.00 210.00\" xmlns=\"http://www.w3.org/2000/svg\" xmlns:xlink=\"http://www.w3.org/1999/xlink\">\n<g id=\"graph0\" class=\"graph\" transform=\"scale(1 1) rotate(0) translate(4 206)\">\n<title>%3</title>\n<polygon fill=\"white\" stroke=\"transparent\" points=\"-4,4 -4,-206 1365,-206 1365,4 -4,4\"/>\n<!-- 139792563223040 -->\n<g id=\"node1\" class=\"node\">\n<title>139792563223040</title>\n<polygon fill=\"none\" stroke=\"black\" points=\"912,-54.5 912,-90.5 1077,-90.5 1077,-54.5 912,-54.5\"/>\n<text text-anchor=\"middle\" x=\"923.5\" y=\"-68.8\" font-family=\"Times,serif\" font-size=\"14.00\">n</text>\n<polyline fill=\"none\" stroke=\"black\" points=\"935,-54.5 935,-90.5 \"/>\n<text text-anchor=\"middle\" x=\"975\" y=\"-68.8\" font-family=\"Times,serif\" font-size=\"14.00\">data 0.8814</text>\n<polyline fill=\"none\" stroke=\"black\" points=\"1015,-54.5 1015,-90.5 \"/>\n<text text-anchor=\"middle\" x=\"1046\" y=\"-68.8\" font-family=\"Times,serif\" font-size=\"14.00\">grad 0.5</text>\n</g>\n<!-- 139792563223472tanh -->\n<g id=\"node12\" class=\"node\">\n<title>139792563223472tanh</title>\n<ellipse fill=\"none\" stroke=\"black\" cx=\"1140\" cy=\"-72.5\" rx=\"27\" ry=\"18\"/>\n<text text-anchor=\"middle\" x=\"1140\" y=\"-68.8\" font-family=\"Times,serif\" font-size=\"14.00\">tanh</text>\n</g>\n<!-- 139792563223040&#45;&gt;139792563223472tanh -->\n<g id=\"edge11\" class=\"edge\">\n<title>139792563223040&#45;&gt;139792563223472tanh</title>\n<path fill=\"none\" stroke=\"black\" d=\"M1077.31,-72.5C1086.14,-72.5 1094.76,-72.5 1102.62,-72.5\"/>\n<polygon fill=\"black\" stroke=\"black\" points=\"1102.83,-76 1112.83,-72.5 1102.83,-69 1102.83,-76\"/>\n</g>\n<!-- 139792563223040+ -->\n<g id=\"node2\" class=\"node\">\n<title>139792563223040+</title>\n<ellipse fill=\"none\" stroke=\"black\" cx=\"849\" cy=\"-72.5\" rx=\"27\" ry=\"18\"/>\n<text text-anchor=\"middle\" x=\"849\" y=\"-68.8\" font-family=\"Times,serif\" font-size=\"14.00\">+</text>\n</g>\n<!-- 139792563223040+&#45;&gt;139792563223040 -->\n<g id=\"edge1\" class=\"edge\">\n<title>139792563223040+&#45;&gt;139792563223040</title>\n<path fill=\"none\" stroke=\"black\" d=\"M876.32,-72.5C883.87,-72.5 892.55,-72.5 901.71,-72.5\"/>\n<polygon fill=\"black\" stroke=\"black\" points=\"901.8,-76 911.8,-72.5 901.8,-69 901.8,-76\"/>\n</g>\n<!-- 139792563222080 -->\n<g id=\"node3\" class=\"node\">\n<title>139792563222080</title>\n<polygon fill=\"none\" stroke=\"black\" points=\"275,-110.5 275,-146.5 448,-146.5 448,-110.5 275,-110.5\"/>\n<text text-anchor=\"middle\" x=\"301.5\" y=\"-124.8\" font-family=\"Times,serif\" font-size=\"14.00\">x1*w1</text>\n<polyline fill=\"none\" stroke=\"black\" points=\"328,-110.5 328,-146.5 \"/>\n<text text-anchor=\"middle\" x=\"357\" y=\"-124.8\" font-family=\"Times,serif\" font-size=\"14.00\">data &#45;6.</text>\n<polyline fill=\"none\" stroke=\"black\" points=\"386,-110.5 386,-146.5 \"/>\n<text text-anchor=\"middle\" x=\"417\" y=\"-124.8\" font-family=\"Times,serif\" font-size=\"14.00\">grad 0.5</text>\n</g>\n<!-- 139792563219920+ -->\n<g id=\"node14\" class=\"node\">\n<title>139792563219920+</title>\n<ellipse fill=\"none\" stroke=\"black\" cx=\"511\" cy=\"-100.5\" rx=\"27\" ry=\"18\"/>\n<text text-anchor=\"middle\" x=\"511\" y=\"-96.8\" font-family=\"Times,serif\" font-size=\"14.00\">+</text>\n</g>\n<!-- 139792563222080&#45;&gt;139792563219920+ -->\n<g id=\"edge12\" class=\"edge\">\n<title>139792563222080&#45;&gt;139792563219920+</title>\n<path fill=\"none\" stroke=\"black\" d=\"M448.3,-112.21C457.66,-110.44 466.75,-108.71 474.95,-107.15\"/>\n<polygon fill=\"black\" stroke=\"black\" points=\"475.64,-110.58 484.82,-105.28 474.34,-103.71 475.64,-110.58\"/>\n</g>\n<!-- 139792563222080* -->\n<g id=\"node4\" class=\"node\">\n<title>139792563222080*</title>\n<ellipse fill=\"none\" stroke=\"black\" cx=\"212\" cy=\"-128.5\" rx=\"27\" ry=\"18\"/>\n<text text-anchor=\"middle\" x=\"212\" y=\"-124.8\" font-family=\"Times,serif\" font-size=\"14.00\">*</text>\n</g>\n<!-- 139792563222080*&#45;&gt;139792563222080 -->\n<g id=\"edge2\" class=\"edge\">\n<title>139792563222080*&#45;&gt;139792563222080</title>\n<path fill=\"none\" stroke=\"black\" d=\"M239.03,-128.5C246.62,-128.5 255.4,-128.5 264.69,-128.5\"/>\n<polygon fill=\"black\" stroke=\"black\" points=\"264.93,-132 274.93,-128.5 264.93,-125 264.93,-132\"/>\n</g>\n<!-- 139795185107008 -->\n<g id=\"node5\" class=\"node\">\n<title>139795185107008</title>\n<polygon fill=\"none\" stroke=\"black\" points=\"2,-55.5 2,-91.5 147,-91.5 147,-55.5 2,-55.5\"/>\n<text text-anchor=\"middle\" x=\"17\" y=\"-69.8\" font-family=\"Times,serif\" font-size=\"14.00\">x2</text>\n<polyline fill=\"none\" stroke=\"black\" points=\"32,-55.5 32,-91.5 \"/>\n<text text-anchor=\"middle\" x=\"58.5\" y=\"-69.8\" font-family=\"Times,serif\" font-size=\"14.00\">data 0.</text>\n<polyline fill=\"none\" stroke=\"black\" points=\"85,-55.5 85,-91.5 \"/>\n<text text-anchor=\"middle\" x=\"116\" y=\"-69.8\" font-family=\"Times,serif\" font-size=\"14.00\">grad 0.5</text>\n</g>\n<!-- 139792563222224* -->\n<g id=\"node9\" class=\"node\">\n<title>139792563222224*</title>\n<ellipse fill=\"none\" stroke=\"black\" cx=\"212\" cy=\"-73.5\" rx=\"27\" ry=\"18\"/>\n<text text-anchor=\"middle\" x=\"212\" y=\"-69.8\" font-family=\"Times,serif\" font-size=\"14.00\">*</text>\n</g>\n<!-- 139795185107008&#45;&gt;139792563222224* -->\n<g id=\"edge9\" class=\"edge\">\n<title>139795185107008&#45;&gt;139792563222224*</title>\n<path fill=\"none\" stroke=\"black\" d=\"M147.22,-73.5C156.68,-73.5 166.04,-73.5 174.55,-73.5\"/>\n<polygon fill=\"black\" stroke=\"black\" points=\"174.83,-77 184.83,-73.5 174.83,-70 174.83,-77\"/>\n</g>\n<!-- 139796153091168 -->\n<g id=\"node6\" class=\"node\">\n<title>139796153091168</title>\n<polygon fill=\"none\" stroke=\"black\" points=\"1.5,-165.5 1.5,-201.5 147.5,-201.5 147.5,-165.5 1.5,-165.5\"/>\n<text text-anchor=\"middle\" x=\"18\" y=\"-179.8\" font-family=\"Times,serif\" font-size=\"14.00\">w1</text>\n<polyline fill=\"none\" stroke=\"black\" points=\"34.5,-165.5 34.5,-201.5 \"/>\n<text text-anchor=\"middle\" x=\"63.5\" y=\"-179.8\" font-family=\"Times,serif\" font-size=\"14.00\">data &#45;3.</text>\n<polyline fill=\"none\" stroke=\"black\" points=\"92.5,-165.5 92.5,-201.5 \"/>\n<text text-anchor=\"middle\" x=\"120\" y=\"-179.8\" font-family=\"Times,serif\" font-size=\"14.00\">grad 1.</text>\n</g>\n<!-- 139796153091168&#45;&gt;139792563222080* -->\n<g id=\"edge13\" class=\"edge\">\n<title>139796153091168&#45;&gt;139792563222080*</title>\n<path fill=\"none\" stroke=\"black\" d=\"M126.29,-165.38C133.94,-162.5 141.7,-159.48 149,-156.5 159.36,-152.27 170.54,-147.33 180.51,-142.79\"/>\n<polygon fill=\"black\" stroke=\"black\" points=\"182.02,-145.96 189.65,-138.6 179.1,-139.59 182.02,-145.96\"/>\n</g>\n<!-- 139795185117328 -->\n<g id=\"node7\" class=\"node\">\n<title>139795185117328</title>\n<polygon fill=\"none\" stroke=\"black\" points=\"4,-0.5 4,-36.5 145,-36.5 145,-0.5 4,-0.5\"/>\n<text text-anchor=\"middle\" x=\"20.5\" y=\"-14.8\" font-family=\"Times,serif\" font-size=\"14.00\">w2</text>\n<polyline fill=\"none\" stroke=\"black\" points=\"37,-0.5 37,-36.5 \"/>\n<text text-anchor=\"middle\" x=\"63.5\" y=\"-14.8\" font-family=\"Times,serif\" font-size=\"14.00\">data 1.</text>\n<polyline fill=\"none\" stroke=\"black\" points=\"90,-0.5 90,-36.5 \"/>\n<text text-anchor=\"middle\" x=\"117.5\" y=\"-14.8\" font-family=\"Times,serif\" font-size=\"14.00\">grad 0.</text>\n</g>\n<!-- 139795185117328&#45;&gt;139792563222224* -->\n<g id=\"edge7\" class=\"edge\">\n<title>139795185117328&#45;&gt;139792563222224*</title>\n<path fill=\"none\" stroke=\"black\" d=\"M126.29,-36.62C133.94,-39.5 141.7,-42.52 149,-45.5 159.36,-49.73 170.54,-54.67 180.51,-59.21\"/>\n<polygon fill=\"black\" stroke=\"black\" points=\"179.1,-62.41 189.65,-63.4 182.02,-56.04 179.1,-62.41\"/>\n</g>\n<!-- 139792563222224 -->\n<g id=\"node8\" class=\"node\">\n<title>139792563222224</title>\n<polygon fill=\"none\" stroke=\"black\" points=\"277.5,-55.5 277.5,-91.5 445.5,-91.5 445.5,-55.5 277.5,-55.5\"/>\n<text text-anchor=\"middle\" x=\"304\" y=\"-69.8\" font-family=\"Times,serif\" font-size=\"14.00\">x2*w2</text>\n<polyline fill=\"none\" stroke=\"black\" points=\"330.5,-55.5 330.5,-91.5 \"/>\n<text text-anchor=\"middle\" x=\"357\" y=\"-69.8\" font-family=\"Times,serif\" font-size=\"14.00\">data 0.</text>\n<polyline fill=\"none\" stroke=\"black\" points=\"383.5,-55.5 383.5,-91.5 \"/>\n<text text-anchor=\"middle\" x=\"414.5\" y=\"-69.8\" font-family=\"Times,serif\" font-size=\"14.00\">grad 0.5</text>\n</g>\n<!-- 139792563222224&#45;&gt;139792563219920+ -->\n<g id=\"edge10\" class=\"edge\">\n<title>139792563222224&#45;&gt;139792563219920+</title>\n<path fill=\"none\" stroke=\"black\" d=\"M445.73,-88.74C455.97,-90.61 465.96,-92.44 474.9,-94.07\"/>\n<polygon fill=\"black\" stroke=\"black\" points=\"474.39,-97.54 484.86,-95.9 475.65,-90.65 474.39,-97.54\"/>\n</g>\n<!-- 139792563222224*&#45;&gt;139792563222224 -->\n<g id=\"edge3\" class=\"edge\">\n<title>139792563222224*&#45;&gt;139792563222224</title>\n<path fill=\"none\" stroke=\"black\" d=\"M239.03,-73.5C247.37,-73.5 257.13,-73.5 267.43,-73.5\"/>\n<polygon fill=\"black\" stroke=\"black\" points=\"267.44,-77 277.44,-73.5 267.44,-70 267.44,-77\"/>\n</g>\n<!-- 139795185110992 -->\n<g id=\"node10\" class=\"node\">\n<title>139795185110992</title>\n<polygon fill=\"none\" stroke=\"black\" points=\"0,-110.5 0,-146.5 149,-146.5 149,-110.5 0,-110.5\"/>\n<text text-anchor=\"middle\" x=\"15\" y=\"-124.8\" font-family=\"Times,serif\" font-size=\"14.00\">x1</text>\n<polyline fill=\"none\" stroke=\"black\" points=\"30,-110.5 30,-146.5 \"/>\n<text text-anchor=\"middle\" x=\"56.5\" y=\"-124.8\" font-family=\"Times,serif\" font-size=\"14.00\">data 2.</text>\n<polyline fill=\"none\" stroke=\"black\" points=\"83,-110.5 83,-146.5 \"/>\n<text text-anchor=\"middle\" x=\"116\" y=\"-124.8\" font-family=\"Times,serif\" font-size=\"14.00\">grad &#45;1.5</text>\n</g>\n<!-- 139795185110992&#45;&gt;139792563222080* -->\n<g id=\"edge8\" class=\"edge\">\n<title>139795185110992&#45;&gt;139792563222080*</title>\n<path fill=\"none\" stroke=\"black\" d=\"M149.2,-128.5C158.09,-128.5 166.84,-128.5 174.84,-128.5\"/>\n<polygon fill=\"black\" stroke=\"black\" points=\"174.86,-132 184.86,-128.5 174.86,-125 174.86,-132\"/>\n</g>\n<!-- 139792563223472 -->\n<g id=\"node11\" class=\"node\">\n<title>139792563223472</title>\n<polygon fill=\"none\" stroke=\"black\" points=\"1203,-54.5 1203,-90.5 1361,-90.5 1361,-54.5 1203,-54.5\"/>\n<text text-anchor=\"middle\" x=\"1214.5\" y=\"-68.8\" font-family=\"Times,serif\" font-size=\"14.00\">o</text>\n<polyline fill=\"none\" stroke=\"black\" points=\"1226,-54.5 1226,-90.5 \"/>\n<text text-anchor=\"middle\" x=\"1266\" y=\"-68.8\" font-family=\"Times,serif\" font-size=\"14.00\">data 0.7071</text>\n<polyline fill=\"none\" stroke=\"black\" points=\"1306,-54.5 1306,-90.5 \"/>\n<text text-anchor=\"middle\" x=\"1333.5\" y=\"-68.8\" font-family=\"Times,serif\" font-size=\"14.00\">grad 1.</text>\n</g>\n<!-- 139792563223472tanh&#45;&gt;139792563223472 -->\n<g id=\"edge4\" class=\"edge\">\n<title>139792563223472tanh&#45;&gt;139792563223472</title>\n<path fill=\"none\" stroke=\"black\" d=\"M1167,-72.5C1174.61,-72.5 1183.39,-72.5 1192.62,-72.5\"/>\n<polygon fill=\"black\" stroke=\"black\" points=\"1192.78,-76 1202.78,-72.5 1192.78,-69 1192.78,-76\"/>\n</g>\n<!-- 139792563219920 -->\n<g id=\"node13\" class=\"node\">\n<title>139792563219920</title>\n<polygon fill=\"none\" stroke=\"black\" points=\"574,-82.5 574,-118.5 786,-118.5 786,-82.5 574,-82.5\"/>\n<text text-anchor=\"middle\" x=\"620\" y=\"-96.8\" font-family=\"Times,serif\" font-size=\"14.00\">x1w1 + x2w2</text>\n<polyline fill=\"none\" stroke=\"black\" points=\"666,-82.5 666,-118.5 \"/>\n<text text-anchor=\"middle\" x=\"695\" y=\"-96.8\" font-family=\"Times,serif\" font-size=\"14.00\">data &#45;6.</text>\n<polyline fill=\"none\" stroke=\"black\" points=\"724,-82.5 724,-118.5 \"/>\n<text text-anchor=\"middle\" x=\"755\" y=\"-96.8\" font-family=\"Times,serif\" font-size=\"14.00\">grad 0.5</text>\n</g>\n<!-- 139792563219920&#45;&gt;139792563223040+ -->\n<g id=\"edge6\" class=\"edge\">\n<title>139792563219920&#45;&gt;139792563223040+</title>\n<path fill=\"none\" stroke=\"black\" d=\"M786.29,-82.85C795.62,-81.28 804.56,-79.78 812.6,-78.44\"/>\n<polygon fill=\"black\" stroke=\"black\" points=\"813.31,-81.86 822.6,-76.76 812.16,-74.96 813.31,-81.86\"/>\n</g>\n<!-- 139792563219920+&#45;&gt;139792563219920 -->\n<g id=\"edge5\" class=\"edge\">\n<title>139792563219920+&#45;&gt;139792563219920</title>\n<path fill=\"none\" stroke=\"black\" d=\"M538.09,-100.5C545.65,-100.5 554.42,-100.5 563.83,-100.5\"/>\n<polygon fill=\"black\" stroke=\"black\" points=\"563.83,-104 573.83,-100.5 563.83,-97 563.83,-104\"/>\n</g>\n<!-- 139795185119152 -->\n<g id=\"node15\" class=\"node\">\n<title>139795185119152</title>\n<polygon fill=\"none\" stroke=\"black\" points=\"597.5,-27.5 597.5,-63.5 762.5,-63.5 762.5,-27.5 597.5,-27.5\"/>\n<text text-anchor=\"middle\" x=\"609\" y=\"-41.8\" font-family=\"Times,serif\" font-size=\"14.00\">b</text>\n<polyline fill=\"none\" stroke=\"black\" points=\"620.5,-27.5 620.5,-63.5 \"/>\n<text text-anchor=\"middle\" x=\"660.5\" y=\"-41.8\" font-family=\"Times,serif\" font-size=\"14.00\">data 6.8814</text>\n<polyline fill=\"none\" stroke=\"black\" points=\"700.5,-27.5 700.5,-63.5 \"/>\n<text text-anchor=\"middle\" x=\"731.5\" y=\"-41.8\" font-family=\"Times,serif\" font-size=\"14.00\">grad 0.5</text>\n</g>\n<!-- 139795185119152&#45;&gt;139792563223040+ -->\n<g id=\"edge14\" class=\"edge\">\n<title>139795185119152&#45;&gt;139792563223040+</title>\n<path fill=\"none\" stroke=\"black\" d=\"M762.54,-58.68C780.13,-61.53 797.84,-64.39 812.53,-66.77\"/>\n<polygon fill=\"black\" stroke=\"black\" points=\"812.23,-70.26 822.66,-68.4 813.35,-63.35 812.23,-70.26\"/>\n</g>\n</g>\n</svg>\n",
            "text/plain": [
              "<graphviz.graphs.Digraph at 0x7f249a599960>"
            ]
          },
          "metadata": {},
          "execution_count": 10
        }
      ]
    },
    {
      "cell_type": "code",
      "source": [
        "import torch\n",
        "\n",
        "#create tensors and enable gradient tracking\n",
        "\n",
        "#inputs x1, x2\n",
        "x1 = torch.Tensor([2.0]); x1.requires_grad = True\n",
        "x2 = torch.Tensor([-.0]); x2.requires_grad = True\n",
        "\n",
        "#weights w1, w2\n",
        "w1 = torch.Tensor([-3.0]); w1.requires_grad = True\n",
        "w2 = torch.Tensor([1.0]); w2.requires_grad = True\n",
        "\n",
        "#bias of neurons\n",
        "b = torch.Tensor([6.8813735870195432]); b.requires_grad = True\n",
        "\n",
        "#perform computation\n",
        "n = x1*w1 + x2*w2 + b\n",
        "\n",
        "#apply tanh function\n",
        "o = torch.tanh(n)\n",
        "\n",
        "#perfroming backprogation\n",
        "o.backward()\n",
        "\n",
        "print(\"------------\")\n",
        "print(\"x1\", x1.grad.item())\n",
        "print(\"w1\", w1.grad.item())\n",
        "print(\"x2\", x2.grad.item())\n",
        "print(\"w2\", w2.grad.item())"
      ],
      "metadata": {
        "colab": {
          "base_uri": "https://localhost:8080/"
        },
        "id": "C0yzoksh8i0s",
        "outputId": "76f5a92e-6582-4f6e-b2cc-f0c7a261be6b"
      },
      "execution_count": 9,
      "outputs": [
        {
          "output_type": "stream",
          "name": "stdout",
          "text": [
            "------------\n",
            "x1 -1.5000003576278687\n",
            "w1 1.000000238418579\n",
            "x2 0.5000001192092896\n",
            "w2 -0.0\n"
          ]
        }
      ]
    },
    {
      "cell_type": "code",
      "source": [
        "import random\n",
        "\n",
        "class Neuron:\n",
        "\n",
        "  def __init__(self, nin):\n",
        "    #initialize neron with random weights and bias\n",
        "    self.w = [Value(random.uniform(-1, 1)) for _ in range(nin)]\n",
        "    self.b = Value(random.uniform(-1,1))\n",
        "\n",
        "  def __call__(self, x):\n",
        "    #calculate wi*xi + b\n",
        "    act = sum((wi*xi for wi, xi in zip(self.w, x)), self.b)\n",
        "    #apply tanh\n",
        "    out = act.tanh()\n",
        "\n",
        "    return out\n",
        "\n",
        "  def parameters(self):\n",
        "    #return weigts and bias\n",
        "    return self.w + [self.b]\n",
        "\n",
        "class Layer:\n",
        "\n",
        "  def __init__(self, nin, nout):\n",
        "    #create a layer(list) of 'nout' neurons with specified inputs\n",
        "    self.neurons = [Neuron(nin) for _ in range(nout)]\n",
        "\n",
        "  def __call__(self, x):\n",
        "    #compute output for each neuron\n",
        "    outs = [n(x) for n in self.neurons]\n",
        "    return outs[0] if len(outs) == 1 else outs\n",
        "\n",
        "  def parameters(self):\n",
        "    #return paramets of all neurons in the layer\n",
        "    return [p for neuron in self.neurons for p in neuron.parameters()]\n",
        "\n",
        "class MLP:\n",
        "\n",
        "  def __init__(self, nin, nouts):\n",
        "    #create a multi-layered perceptron with specified number of inputs and outputs for each neuron\n",
        "    sz = [nin] + nouts\n",
        "    self.layers = [Layer(sz[i], sz[i+1]) for i in range(len(nouts))]\n",
        "\n",
        "  def __call__(self, x):\n",
        "    #foward propogation\n",
        "    for layer in self.layers:\n",
        "      x = layer(x)\n",
        "    return x\n",
        "\n",
        "  def parameters(self):\n",
        "    return [p for layer in self.layers for p in layer.parameters()]\n"
      ],
      "metadata": {
        "id": "QHNyzuabAhRz"
      },
      "execution_count": 31,
      "outputs": []
    },
    {
      "cell_type": "code",
      "source": [
        "xs = [\n",
        "    [2.0, 3.0, -1.0],\n",
        "    [3.0, -1.0, 0.5],\n",
        "    [0.5, 1.0, 1.0],\n",
        "    [1.0, 1.0, -1.0],\n",
        "]\n",
        "\n",
        "ys = [1.0, -1.0, -1.0, 1.0]"
      ],
      "metadata": {
        "id": "9-GUa9rTGnc8"
      },
      "execution_count": 32,
      "outputs": []
    },
    {
      "cell_type": "code",
      "source": [
        "n = MLP(3, [4,4,1])"
      ],
      "metadata": {
        "id": "AK_A6H3GI059"
      },
      "execution_count": 33,
      "outputs": []
    },
    {
      "cell_type": "code",
      "source": [
        "for k in range(20):\n",
        "\n",
        "  #foward pass\n",
        "  ypred = [n(x) for x in xs]\n",
        "  loss = sum((yout - ygt)**2.0 for ygt, yout in zip(ys, ypred))\n",
        "\n",
        "  #backpass\n",
        "  for p in n.parameters():\n",
        "    p.grad = 0.0\n",
        "\n",
        "  #compute the gradients\n",
        "  loss.backward()\n",
        "\n",
        "  # Update weights\n",
        "  for p in n.parameters():\n",
        "      p.data += -0.5 * p.grad\n",
        "\n",
        "  print(k, loss.data)"
      ],
      "metadata": {
        "colab": {
          "base_uri": "https://localhost:8080/"
        },
        "id": "gF_eHhWdIkP4",
        "outputId": "9c3b50ad-b531-4905-bb38-48b9800c5c2b"
      },
      "execution_count": 34,
      "outputs": [
        {
          "output_type": "stream",
          "name": "stdout",
          "text": [
            "0 5.249968603062127\n",
            "1 5.249968603062127\n",
            "2 5.249968603062127\n",
            "3 5.249968603062127\n",
            "4 5.249968603062127\n",
            "5 5.249968603062127\n",
            "6 5.249968603062127\n",
            "7 5.249968603062127\n",
            "8 5.249968603062127\n",
            "9 5.249968603062127\n",
            "10 5.249968603062127\n",
            "11 5.249968603062127\n",
            "12 5.249968603062127\n",
            "13 5.249968603062127\n",
            "14 5.249968603062127\n",
            "15 5.249968603062127\n",
            "16 5.249968603062127\n",
            "17 5.249968603062127\n",
            "18 5.249968603062127\n",
            "19 5.249968603062127\n"
          ]
        }
      ]
    },
    {
      "cell_type": "code",
      "source": [],
      "metadata": {
        "id": "PFBSIkyVKLTV"
      },
      "execution_count": null,
      "outputs": []
    }
  ]
}